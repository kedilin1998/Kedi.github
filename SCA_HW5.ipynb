{
  "nbformat": 4,
  "nbformat_minor": 0,
  "metadata": {
    "colab": {
      "provenance": []
    },
    "kernelspec": {
      "name": "python3",
      "display_name": "Python 3"
    },
    "language_info": {
      "name": "python"
    }
  },
  "cells": [
    {
      "cell_type": "code",
      "source": [
        "import numpy as np"
      ],
      "metadata": {
        "id": "_ZYGABbSQl_f"
      },
      "execution_count": 33,
      "outputs": []
    },
    {
      "cell_type": "markdown",
      "source": [
        "## 1. Products are sourced independently"
      ],
      "metadata": {
        "id": "sLCtTjDLuTwg"
      }
    },
    {
      "cell_type": "code",
      "execution_count": 34,
      "metadata": {
        "id": "W1weglU4QiUk"
      },
      "outputs": [],
      "source": [
        "demands = np.array([1000, 300, 100, 50])\n",
        "common_ordering_cost = 100\n",
        "specific_ordering_costs = np.array([10, 20, 25, 25])\n",
        "unit_costs = np.array([50, 60, 30, 30])\n",
        "holding_cost_rates = np.array([0.2, 0.2, 0.2, 0.2])\n",
        "\n",
        "# Calculate EOQ for each product\n",
        "eoqs = np.sqrt((2 * demands * (common_ordering_cost + specific_ordering_costs)) / (holding_cost_rates * unit_costs))\n",
        "\n",
        "# Calculate total costs for each product when sourced independently\n",
        "ordering_costs_independent = (demands / eoqs) * (common_ordering_cost + specific_ordering_costs)\n",
        "holding_costs_independent = (eoqs / 2) * holding_cost_rates * unit_costs\n",
        "total_costs_independent = ordering_costs_independent + holding_costs_independent\n",
        "\n",
        "# Sum of total costs for independent sourcing\n",
        "total_annual_cost = total_costs_independent.sum()"
      ]
    },
    {
      "cell_type": "code",
      "source": [
        "products = [\"Product 1\", \"Product 2\", \"Product 3\", \"Product 4\"]\n",
        "\n",
        "for i in range(4):\n",
        "    print(f\"{products[i]}:\")\n",
        "    print(f\"EOQ: {eoqs[i]:.2f} units\")\n",
        "    print(f\"Ordering Cost: ${ordering_costs_independent[i]:.2f}\")\n",
        "    print(f\"Holding Cost: ${holding_costs_independent[i]:.2f}\")\n",
        "    print(f\"Total Cost: ${total_costs_independent[i]:.2f}\\n\")\n",
        "\n",
        "print(f\"Total Annual Operational Cost: ${total_annual_cost:.2f}\")"
      ],
      "metadata": {
        "colab": {
          "base_uri": "https://localhost:8080/"
        },
        "id": "ChcSTI2Oz-K1",
        "outputId": "a31b70be-ffb1-440b-8659-cdc708d08c2d"
      },
      "execution_count": 35,
      "outputs": [
        {
          "output_type": "stream",
          "name": "stdout",
          "text": [
            "Product 1:\n",
            "EOQ: 148.32 units\n",
            "Ordering Cost: $741.62\n",
            "Holding Cost: $741.62\n",
            "Total Cost: $1483.24\n",
            "\n",
            "Product 2:\n",
            "EOQ: 77.46 units\n",
            "Ordering Cost: $464.76\n",
            "Holding Cost: $464.76\n",
            "Total Cost: $929.52\n",
            "\n",
            "Product 3:\n",
            "EOQ: 64.55 units\n",
            "Ordering Cost: $193.65\n",
            "Holding Cost: $193.65\n",
            "Total Cost: $387.30\n",
            "\n",
            "Product 4:\n",
            "EOQ: 45.64 units\n",
            "Ordering Cost: $136.93\n",
            "Holding Cost: $136.93\n",
            "Total Cost: $273.86\n",
            "\n",
            "Total Annual Operational Cost: $3073.92\n"
          ]
        }
      ]
    },
    {
      "cell_type": "markdown",
      "source": [
        "## 2. All four products are sourced with the same frequency"
      ],
      "metadata": {
        "id": "My1lRfxYuYyq"
      }
    },
    {
      "cell_type": "code",
      "source": [
        "import math\n",
        "\n",
        "# Calculations\n",
        "transaction_cost = common_ordering_cost + specific_ordering_costs.sum()\n",
        "total_demand_holding_cost = np.sum(demands * holding_cost_rates * unit_costs)\n",
        "optimal_frequency = np.sqrt(total_demand_holding_cost / (2 * transaction_cost))\n",
        "optimal_order_sizes = np.round(demands / optimal_frequency, 0)\n",
        "annual_holding_costs = optimal_order_sizes / 2 * holding_cost_rates * unit_costs\n",
        "annual_ordering_cost = optimal_frequency * transaction_cost\n",
        "total_annual_cost_2 = annual_holding_costs.sum() + annual_ordering_cost\n",
        "\n",
        "# Output\n",
        "for i, (name, eoq, holding_costs_independent) in enumerate(zip(products, optimal_order_sizes, annual_holding_costs), 1):\n",
        "    ordering_cost_independent = optimal_frequency * (common_ordering_cost + specific_ordering_costs[i-1])\n",
        "    total_cost_independent = holding_costs_independent + ordering_cost_independent\n",
        "    print(f\"{name}:\")\n",
        "    print(f\"EOQ: {eoq} units\")\n",
        "    print(f\"Ordering Cost: ${ordering_cost_independent:.2f}\")\n",
        "    print(f\"Holding Cost: ${holding_costs_independent:.2f}\")\n",
        "    print(f\"Total Cost: ${total_cost_independent:.2f}\\n\")\n",
        "\n",
        "print(f\"Total Annual Operational Cost: ${total_annual_cost_2:.2f}\")"
      ],
      "metadata": {
        "colab": {
          "base_uri": "https://localhost:8080/"
        },
        "id": "n8eKDc5iRbtM",
        "outputId": "fd8bd903-c7eb-49db-8412-13b4f061307a"
      },
      "execution_count": 36,
      "outputs": [
        {
          "output_type": "stream",
          "name": "stdout",
          "text": [
            "Product 1:\n",
            "EOQ: 158.0 units\n",
            "Ordering Cost: $698.11\n",
            "Holding Cost: $790.00\n",
            "Total Cost: $1488.11\n",
            "\n",
            "Product 2:\n",
            "EOQ: 47.0 units\n",
            "Ordering Cost: $761.58\n",
            "Holding Cost: $282.00\n",
            "Total Cost: $1043.58\n",
            "\n",
            "Product 3:\n",
            "EOQ: 16.0 units\n",
            "Ordering Cost: $793.31\n",
            "Holding Cost: $48.00\n",
            "Total Cost: $841.31\n",
            "\n",
            "Product 4:\n",
            "EOQ: 8.0 units\n",
            "Ordering Cost: $793.31\n",
            "Holding Cost: $24.00\n",
            "Total Cost: $817.31\n",
            "\n",
            "Total Annual Operational Cost: $2286.37\n"
          ]
        }
      ]
    },
    {
      "cell_type": "markdown",
      "source": [
        "## 3. Order frequencies are determined according to the tailored aggregation strategy"
      ],
      "metadata": {
        "id": "v3BCGgUquctd"
      }
    },
    {
      "cell_type": "code",
      "source": [
        "# Calculating m-values based on frequency comparison to Product 1\n",
        "frequency_product1 = 6.7568\n",
        "ms = [1] + [math.ceil(frequency_product1 / (d / np.sqrt((2 * d * s) / (h * u)))) for d, s, h, u in zip(demands[1:], specific_ordering_costs[1:], holding_cost_rates[1:], unit_costs[1:])]\n",
        "\n",
        "# Adjusted ordering costs including common cost for Product 1 and calculating adjusted frequency\n",
        "specific_ordering_costs_adjusted = np.array([common_ordering_cost + specific_ordering_costs[0]] + list(specific_ordering_costs[1:]))\n",
        "optimal_frequency_adjusted = round(math.sqrt(sum(d * h * m for d, h, m in zip(demands, holding_cost_rates * unit_costs, ms)) / (2 * (common_ordering_cost + sum(s / m for s, m in zip(specific_ordering_costs[1:], ms[1:]))))), 1)\n",
        "\n",
        "# Optimal order quantities and frequencies for all products\n",
        "optimal_order_quantities_3 = [round(d / (optimal_frequency_adjusted if i == 0 else optimal_frequency_adjusted / ms[i]), 0) for i, d in enumerate(demands)]\n",
        "\n",
        "# Calculating costs and total annual operational cost\n",
        "annual_ordering_cost_3 = sum(s * f for s, f in zip(specific_ordering_costs_adjusted, [optimal_frequency_adjusted] + [optimal_frequency_adjusted / m for m in ms[1:]]))\n",
        "annual_holding_cost_3 = sum(q / 2 * h * u for q, h, u in zip(optimal_order_quantities_3, holding_cost_rates, unit_costs))\n",
        "annual_total_cost_3 = annual_ordering_cost_3 + annual_holding_cost_3\n",
        "\n",
        "# Output the results\n",
        "for i, name in enumerate(products):\n",
        "    individual_ordering_cost = specific_ordering_costs_adjusted[i] * (optimal_frequency_adjusted if i == 0 else optimal_frequency_adjusted / ms[i])\n",
        "    individual_holding_cost = optimal_order_quantities_3[i] / 2 * holding_cost_rates[i] * unit_costs[i]\n",
        "    print(f\"{name}:\")\n",
        "    print(f\"EOQ: {optimal_order_quantities_3[i]} units\")\n",
        "    print(f\"Ordering Cost: ${individual_ordering_cost:.2f}\")\n",
        "    print(f\"Holding Cost: ${individual_holding_cost:.2f}\")\n",
        "    print(f\"Total Cost: ${individual_ordering_cost + individual_holding_cost:.2f}\\n\")\n",
        "\n",
        "print(f\"Total Annual Operational Cost: ${annual_total_cost_3:.2f}\")"
      ],
      "metadata": {
        "colab": {
          "base_uri": "https://localhost:8080/"
        },
        "id": "KcqiFaQm9ZPz",
        "outputId": "b13664dd-0d10-4c9b-eeac-e28e0d3455a9"
      },
      "execution_count": 37,
      "outputs": [
        {
          "output_type": "stream",
          "name": "stdout",
          "text": [
            "Product 1:\n",
            "EOQ: 133.0 units\n",
            "Ordering Cost: $825.00\n",
            "Holding Cost: $665.00\n",
            "Total Cost: $1490.00\n",
            "\n",
            "Product 2:\n",
            "EOQ: 40.0 units\n",
            "Ordering Cost: $150.00\n",
            "Holding Cost: $240.00\n",
            "Total Cost: $390.00\n",
            "\n",
            "Product 3:\n",
            "EOQ: 27.0 units\n",
            "Ordering Cost: $93.75\n",
            "Holding Cost: $81.00\n",
            "Total Cost: $174.75\n",
            "\n",
            "Product 4:\n",
            "EOQ: 20.0 units\n",
            "Ordering Cost: $62.50\n",
            "Holding Cost: $60.00\n",
            "Total Cost: $122.50\n",
            "\n",
            "Total Annual Operational Cost: $2177.25\n"
          ]
        }
      ]
    }
  ]
}